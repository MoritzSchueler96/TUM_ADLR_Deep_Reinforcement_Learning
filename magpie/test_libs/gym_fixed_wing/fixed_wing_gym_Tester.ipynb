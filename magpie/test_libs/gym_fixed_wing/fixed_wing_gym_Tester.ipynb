{
 "metadata": {
  "language_info": {
   "codemirror_mode": {
    "name": "ipython",
    "version": 3
   },
   "file_extension": ".py",
   "mimetype": "text/x-python",
   "name": "python",
   "nbconvert_exporter": "python",
   "pygments_lexer": "ipython3",
   "version": "3.6.12-final"
  },
  "orig_nbformat": 2,
  "kernelspec": {
   "name": "conda-env-adlr-py",
   "display_name": "Python [conda env:adlr]",
   "language": "python"
  }
 },
 "nbformat": 4,
 "nbformat_minor": 2,
 "cells": [
  {
   "source": [
    "# Reproduce paper results"
   ],
   "cell_type": "markdown",
   "metadata": {}
  },
  {
   "cell_type": "code",
   "execution_count": 1,
   "metadata": {},
   "outputs": [
    {
     "output_type": "stream",
     "name": "stdout",
     "text": [
      "notebookDir: /home/user/Documents/Github/Uni/Master/tum-adlr-ws20-08/PyFly101\n/home/user/Documents/Github/Uni/Master/tum-adlr-ws20-08/PyFly101/../papers/fixed-wing-gym/gym_fixed_wing/examples/\n"
     ]
    }
   ],
   "source": [
    "import os\n",
    "if not 'notebookDir' in globals():\n",
    "    notebookDir = os.getcwd()\n",
    "print('notebookDir: ' + notebookDir)\n",
    "os.chdir(notebookDir)\n",
    "examples_dir = notebookDir + \"/../papers/fixed-wing-gym/gym_fixed_wing/examples/\"\n",
    "print(examples_dir)"
   ]
  },
  {
   "source": [
    "## Training"
   ],
   "cell_type": "markdown",
   "metadata": {}
  },
  {
   "cell_type": "code",
   "execution_count": 2,
   "metadata": {},
   "outputs": [
    {
     "output_type": "stream",
     "name": "stdout",
     "text": [
      "WARNING:tensorflow:\nThe TensorFlow contrib module will not be included in TensorFlow 2.0.\nFor more information, please see:\n  * https://github.com/tensorflow/community/blob/master/rfcs/20180907-contrib-sunset.md\n  * https://github.com/tensorflow/addons\n  * https://github.com/tensorflow/io (for I/O related ops)\nIf you depend on functionality not listed there, please file an issue.\n\n"
     ]
    }
   ],
   "source": [
    "from gym_fixed_wing.examples import train_rl_controller"
   ]
  },
  {
   "cell_type": "code",
   "execution_count": 4,
   "metadata": {},
   "outputs": [
    {
     "output_type": "stream",
     "name": "stdout",
     "text": [
      "WARNING:tensorflow:From /home/user/miniconda3/envs/adlr/lib/python3.6/site-packages/stable_baselines/common/tf_util.py:191: The name tf.ConfigProto is deprecated. Please use tf.compat.v1.ConfigProto instead.\n",
      "\n",
      "WARNING:tensorflow:From /home/user/miniconda3/envs/adlr/lib/python3.6/site-packages/stable_baselines/common/tf_util.py:200: The name tf.Session is deprecated. Please use tf.compat.v1.Session instead.\n",
      "\n",
      "WARNING:tensorflow:From /home/user/miniconda3/envs/adlr/lib/python3.6/site-packages/stable_baselines/common/policies.py:116: The name tf.variable_scope is deprecated. Please use tf.compat.v1.variable_scope instead.\n",
      "\n",
      "WARNING:tensorflow:From /home/user/miniconda3/envs/adlr/lib/python3.6/site-packages/stable_baselines/common/input.py:25: The name tf.placeholder is deprecated. Please use tf.compat.v1.placeholder instead.\n",
      "\n",
      "WARNING:tensorflow:From /home/user/miniconda3/envs/adlr/lib/python3.6/site-packages/stable_baselines/common/policies.py:561: flatten (from tensorflow.python.layers.core) is deprecated and will be removed in a future version.\n",
      "Instructions for updating:\n",
      "Use keras.layers.flatten instead.\n",
      "WARNING:tensorflow:From /home/user/miniconda3/envs/adlr/lib/python3.6/site-packages/tensorflow_core/python/layers/core.py:332: Layer.apply (from tensorflow.python.keras.engine.base_layer) is deprecated and will be removed in a future version.\n",
      "Instructions for updating:\n",
      "Please use `layer.__call__` method instead.\n",
      "WARNING:tensorflow:From /home/user/miniconda3/envs/adlr/lib/python3.6/site-packages/stable_baselines/common/tf_layers.py:123: The name tf.get_variable is deprecated. Please use tf.compat.v1.get_variable instead.\n",
      "\n",
      "WARNING:tensorflow:From /home/user/miniconda3/envs/adlr/lib/python3.6/site-packages/stable_baselines/common/distributions.py:418: The name tf.random_normal is deprecated. Please use tf.random.normal instead.\n",
      "\n",
      "WARNING:tensorflow:From /home/user/miniconda3/envs/adlr/lib/python3.6/site-packages/stable_baselines/ppo2/ppo2.py:190: The name tf.summary.scalar is deprecated. Please use tf.compat.v1.summary.scalar instead.\n",
      "\n",
      "WARNING:tensorflow:From /home/user/miniconda3/envs/adlr/lib/python3.6/site-packages/stable_baselines/ppo2/ppo2.py:198: The name tf.trainable_variables is deprecated. Please use tf.compat.v1.trainable_variables instead.\n",
      "\n",
      "WARNING:tensorflow:From /home/user/miniconda3/envs/adlr/lib/python3.6/site-packages/tensorflow_core/python/ops/math_grad.py:1424: where (from tensorflow.python.ops.array_ops) is deprecated and will be removed in a future version.\n",
      "Instructions for updating:\n",
      "Use tf.where in 2.0, which has the same broadcast rule as np.where\n",
      "WARNING:tensorflow:From /home/user/miniconda3/envs/adlr/lib/python3.6/site-packages/stable_baselines/ppo2/ppo2.py:206: The name tf.train.AdamOptimizer is deprecated. Please use tf.compat.v1.train.AdamOptimizer instead.\n",
      "\n",
      "WARNING:tensorflow:From /home/user/miniconda3/envs/adlr/lib/python3.6/site-packages/stable_baselines/ppo2/ppo2.py:240: The name tf.global_variables_initializer is deprecated. Please use tf.compat.v1.global_variables_initializer instead.\n",
      "\n",
      "WARNING:tensorflow:From /home/user/miniconda3/envs/adlr/lib/python3.6/site-packages/stable_baselines/ppo2/ppo2.py:242: The name tf.summary.merge_all is deprecated. Please use tf.compat.v1.summary.merge_all instead.\n",
      "\n",
      "WARNING:tensorflow:From /home/user/miniconda3/envs/adlr/lib/python3.6/site-packages/stable_baselines/common/base_class.py:1169: The name tf.summary.FileWriter is deprecated. Please use tf.compat.v1.summary.FileWriter instead.\n",
      "\n"
     ]
    }
   ],
   "source": [
    "os.chdir(examples_dir)\n",
    "if __name__ == '__main__':\n",
    "    train_rl_controller.main(model_name=\"reproduceMLP\", num_envs=4, disable_curriculum=True, policy=\"MLP\", train_steps=5000000,                     test_path=\"test_sets/\")"
   ]
  },
  {
   "source": [
    "## Evaluation"
   ],
   "cell_type": "markdown",
   "metadata": {}
  },
  {
   "cell_type": "code",
   "execution_count": 2,
   "metadata": {},
   "outputs": [
    {
     "output_type": "stream",
     "name": "stdout",
     "text": [
      "WARNING:tensorflow:\nThe TensorFlow contrib module will not be included in TensorFlow 2.0.\nFor more information, please see:\n  * https://github.com/tensorflow/community/blob/master/rfcs/20180907-contrib-sunset.md\n  * https://github.com/tensorflow/addons\n  * https://github.com/tensorflow/io (for I/O related ops)\nIf you depend on functionality not listed there, please file an issue.\n\n"
     ]
    }
   ],
   "source": [
    "from gym_fixed_wing.examples import evaluate_controller"
   ]
  },
  {
   "cell_type": "code",
   "execution_count": 8,
   "metadata": {},
   "outputs": [
    {
     "output_type": "stream",
     "name": "stdout",
     "text": [
      "100/100 scenarios left\n",
      "99/100 scenarios left\n",
      "98/100 scenarios left\n",
      "97/100 scenarios left\n",
      "96/100 scenarios left\n",
      "95/100 scenarios left\n",
      "94/100 scenarios left\n",
      "93/100 scenarios left\n",
      "92/100 scenarios left\n",
      "91/100 scenarios left\n",
      "90/100 scenarios left\n",
      "89/100 scenarios left\n",
      "88/100 scenarios left\n",
      "87/100 scenarios left\n",
      "86/100 scenarios left\n",
      "85/100 scenarios left\n",
      "84/100 scenarios left\n",
      "83/100 scenarios left\n",
      "82/100 scenarios left\n",
      "81/100 scenarios left\n",
      "80/100 scenarios left\n",
      "79/100 scenarios left\n",
      "78/100 scenarios left\n",
      "77/100 scenarios left\n",
      "76/100 scenarios left\n",
      "75/100 scenarios left\n",
      "74/100 scenarios left\n",
      "73/100 scenarios left\n",
      "72/100 scenarios left\n",
      "71/100 scenarios left\n",
      "70/100 scenarios left\n",
      "69/100 scenarios left\n",
      "68/100 scenarios left\n",
      "67/100 scenarios left\n",
      "66/100 scenarios left\n",
      "65/100 scenarios left\n",
      "64/100 scenarios left\n",
      "63/100 scenarios left\n",
      "62/100 scenarios left\n",
      "61/100 scenarios left\n",
      "60/100 scenarios left\n",
      "59/100 scenarios left\n",
      "58/100 scenarios left\n",
      "57/100 scenarios left\n",
      "56/100 scenarios left\n",
      "55/100 scenarios left\n",
      "54/100 scenarios left\n",
      "53/100 scenarios left\n",
      "52/100 scenarios left\n",
      "51/100 scenarios left\n",
      "50/100 scenarios left\n",
      "49/100 scenarios left\n",
      "48/100 scenarios left\n",
      "47/100 scenarios left\n",
      "46/100 scenarios left\n",
      "45/100 scenarios left\n",
      "44/100 scenarios left\n",
      "43/100 scenarios left\n",
      "42/100 scenarios left\n",
      "41/100 scenarios left\n",
      "40/100 scenarios left\n",
      "39/100 scenarios left\n",
      "38/100 scenarios left\n",
      "37/100 scenarios left\n",
      "36/100 scenarios left\n",
      "35/100 scenarios left\n",
      "34/100 scenarios left\n",
      "33/100 scenarios left\n",
      "32/100 scenarios left\n",
      "31/100 scenarios left\n",
      "30/100 scenarios left\n",
      "29/100 scenarios left\n",
      "28/100 scenarios left\n",
      "27/100 scenarios left\n",
      "26/100 scenarios left\n",
      "25/100 scenarios left\n",
      "24/100 scenarios left\n",
      "23/100 scenarios left\n",
      "22/100 scenarios left\n",
      "21/100 scenarios left\n",
      "20/100 scenarios left\n",
      "19/100 scenarios left\n",
      "18/100 scenarios left\n",
      "17/100 scenarios left\n",
      "16/100 scenarios left\n",
      "15/100 scenarios left\n",
      "14/100 scenarios left\n",
      "13/100 scenarios left\n",
      "12/100 scenarios left\n",
      "11/100 scenarios left\n",
      "10/100 scenarios left\n",
      "9/100 scenarios left\n",
      "8/100 scenarios left\n",
      "7/100 scenarios left\n",
      "6/100 scenarios left\n",
      "5/100 scenarios left\n",
      "4/100 scenarios left\n",
      "3/100 scenarios left\n",
      "2/100 scenarios left\n",
      "1/100 scenarios left\n",
      "success\n",
      "\troll:\t1.0\n",
      "\tpitch:\t1.0\n",
      "\tVa:\t1.0\n",
      "\tall:\t1.0\n",
      "control_variation\n",
      "\tall:\t0.28239413772665256\n",
      "rise_time\n",
      "\troll:\t133.65591397849462\n",
      "\tpitch:\t22.6\n",
      "\tVa:\t101.53571428571429\n",
      "overshoot\n",
      "\troll:\t0.03491744001110296\n",
      "\tpitch:\t0.09607746595448735\n",
      "\tVa:\t0.2892483662133038\n",
      "settling_time\n",
      "\troll:\t201.72\n",
      "\tpitch:\t129.36\n",
      "\tVa:\t220.15\n",
      "\tall:\t253.46\n"
     ]
    }
   ],
   "source": [
    "os.chdir(examples_dir)\n",
    "# needed to avoid that multiprocessing creates recursive subprocesses\n",
    "if __name__ == '__main__':\n",
    "    evaluate_controller.main(path_to_file=\"test_sets/test_set_wind_none_step20-20-3.npy\", num_envs=4,\n",
    "    use_pid=True, env_config_path=\"fixed_wing_config.json\", turbulence_intensity=\"None\", print_res=False)"
   ]
  },
  {
   "cell_type": "code",
   "execution_count": 8,
   "metadata": {},
   "outputs": [
    {
     "output_type": "stream",
     "name": "stdout",
     "text": [
      "Loading a model without an environment, this model cannot be trained until it has a valid environment.\n",
      "WARNING:tensorflow:From /home/user/Documents/Github/Uni/Master/tum-adlr-ws20-08/papers/stable-baselines/stable_baselines/common/policies.py:954: flatten (from tensorflow.python.layers.core) is deprecated and will be removed in a future version.\n",
      "Instructions for updating:\n",
      "Use keras.layers.flatten instead.\n",
      "WARNING:tensorflow:From /home/user/miniconda3/envs/adlr/lib/python3.7/site-packages/tensorflow_core/python/layers/core.py:332: Layer.apply (from tensorflow.python.keras.engine.base_layer) is deprecated and will be removed in a future version.\n",
      "Instructions for updating:\n",
      "Please use `layer.__call__` method instead.\n",
      "WARNING:tensorflow:From /home/user/Documents/Github/Uni/Master/tum-adlr-ws20-08/papers/stable-baselines/stable_baselines/common/tf_layers.py:123: The name tf.get_variable is deprecated. Please use tf.compat.v1.get_variable instead.\n",
      "\n",
      "WARNING:tensorflow:From /home/user/Documents/Github/Uni/Master/tum-adlr-ws20-08/papers/stable-baselines/stable_baselines/common/distributions.py:452: The name tf.random_normal is deprecated. Please use tf.random.normal instead.\n",
      "\n",
      "WARNING:tensorflow:From /home/user/Documents/Github/Uni/Master/tum-adlr-ws20-08/papers/stable-baselines/stable_baselines/common/distributions.py:154: The name tf.placeholder is deprecated. Please use tf.compat.v1.placeholder instead.\n",
      "\n",
      "WARNING:tensorflow:From /home/user/Documents/Github/Uni/Master/tum-adlr-ws20-08/papers/stable-baselines/stable_baselines/ppo2/ppo2.py:194: The name tf.summary.scalar is deprecated. Please use tf.compat.v1.summary.scalar instead.\n",
      "\n",
      "WARNING:tensorflow:From /home/user/Documents/Github/Uni/Master/tum-adlr-ws20-08/papers/stable-baselines/stable_baselines/ppo2/ppo2.py:202: The name tf.trainable_variables is deprecated. Please use tf.compat.v1.trainable_variables instead.\n",
      "\n",
      "WARNING:tensorflow:From /home/user/miniconda3/envs/adlr/lib/python3.7/site-packages/tensorflow_core/python/ops/math_grad.py:1424: where (from tensorflow.python.ops.array_ops) is deprecated and will be removed in a future version.\n",
      "Instructions for updating:\n",
      "Use tf.where in 2.0, which has the same broadcast rule as np.where\n",
      "WARNING:tensorflow:From /home/user/Documents/Github/Uni/Master/tum-adlr-ws20-08/papers/stable-baselines/stable_baselines/ppo2/ppo2.py:210: The name tf.train.AdamOptimizer is deprecated. Please use tf.compat.v1.train.AdamOptimizer instead.\n",
      "\n",
      "WARNING:tensorflow:From /home/user/Documents/Github/Uni/Master/tum-adlr-ws20-08/papers/stable-baselines/stable_baselines/ppo2/ppo2.py:244: The name tf.global_variables_initializer is deprecated. Please use tf.compat.v1.global_variables_initializer instead.\n",
      "\n",
      "WARNING:tensorflow:From /home/user/Documents/Github/Uni/Master/tum-adlr-ws20-08/papers/stable-baselines/stable_baselines/ppo2/ppo2.py:246: The name tf.summary.merge_all is deprecated. Please use tf.compat.v1.summary.merge_all instead.\n",
      "\n",
      "100/100 scenarios left\n",
      "99/100 scenarios left\n",
      "98/100 scenarios left\n",
      "97/100 scenarios left\n",
      "96/100 scenarios left\n",
      "95/100 scenarios left\n",
      "94/100 scenarios left\n",
      "93/100 scenarios left\n",
      "92/100 scenarios left\n",
      "91/100 scenarios left\n",
      "90/100 scenarios left\n",
      "89/100 scenarios left\n",
      "88/100 scenarios left\n",
      "87/100 scenarios left\n",
      "86/100 scenarios left\n",
      "85/100 scenarios left\n",
      "84/100 scenarios left\n",
      "83/100 scenarios left\n",
      "82/100 scenarios left\n",
      "81/100 scenarios left\n",
      "80/100 scenarios left\n",
      "79/100 scenarios left\n",
      "78/100 scenarios left\n",
      "77/100 scenarios left\n",
      "76/100 scenarios left\n",
      "75/100 scenarios left\n",
      "74/100 scenarios left\n",
      "73/100 scenarios left\n",
      "72/100 scenarios left\n",
      "71/100 scenarios left\n",
      "70/100 scenarios left\n",
      "69/100 scenarios left\n",
      "68/100 scenarios left\n",
      "67/100 scenarios left\n",
      "66/100 scenarios left\n",
      "65/100 scenarios left\n",
      "64/100 scenarios left\n",
      "63/100 scenarios left\n",
      "62/100 scenarios left\n",
      "61/100 scenarios left\n",
      "60/100 scenarios left\n",
      "59/100 scenarios left\n",
      "58/100 scenarios left\n",
      "57/100 scenarios left\n",
      "56/100 scenarios left\n",
      "55/100 scenarios left\n",
      "54/100 scenarios left\n",
      "53/100 scenarios left\n",
      "52/100 scenarios left\n",
      "51/100 scenarios left\n",
      "50/100 scenarios left\n",
      "49/100 scenarios left\n",
      "48/100 scenarios left\n",
      "47/100 scenarios left\n",
      "46/100 scenarios left\n",
      "45/100 scenarios left\n",
      "44/100 scenarios left\n",
      "43/100 scenarios left\n",
      "42/100 scenarios left\n",
      "41/100 scenarios left\n",
      "40/100 scenarios left\n",
      "39/100 scenarios left\n",
      "38/100 scenarios left\n",
      "37/100 scenarios left\n",
      "36/100 scenarios left\n",
      "35/100 scenarios left\n",
      "34/100 scenarios left\n",
      "33/100 scenarios left\n",
      "32/100 scenarios left\n",
      "31/100 scenarios left\n",
      "30/100 scenarios left\n",
      "29/100 scenarios left\n",
      "28/100 scenarios left\n",
      "27/100 scenarios left\n",
      "26/100 scenarios left\n",
      "25/100 scenarios left\n",
      "24/100 scenarios left\n",
      "23/100 scenarios left\n",
      "22/100 scenarios left\n",
      "21/100 scenarios left\n",
      "20/100 scenarios left\n",
      "19/100 scenarios left\n",
      "18/100 scenarios left\n",
      "17/100 scenarios left\n",
      "16/100 scenarios left\n",
      "15/100 scenarios left\n",
      "14/100 scenarios left\n",
      "13/100 scenarios left\n",
      "12/100 scenarios left\n",
      "11/100 scenarios left\n",
      "10/100 scenarios left\n",
      "9/100 scenarios left\n",
      "8/100 scenarios left\n",
      "7/100 scenarios left\n",
      "6/100 scenarios left\n",
      "5/100 scenarios left\n",
      "4/100 scenarios left\n",
      "3/100 scenarios left\n",
      "2/100 scenarios left\n",
      "1/100 scenarios left\n",
      "success\n",
      "\troll:\t0.98\n",
      "\tpitch:\t0.97\n",
      "\tVa:\t0.97\n",
      "\tall:\t0.97\n",
      "control_variation\n",
      "\tall:\t1.2784630598842677\n",
      "rise_time\n",
      "\troll:\t89.02150537634408\n",
      "\tpitch:\t67.97872340425532\n",
      "\tVa:\t64.30909090909091\n",
      "overshoot\n",
      "\troll:\t0.45834825782375777\n",
      "\tpitch:\t0.5213400202716104\n",
      "\tVa:\t0.9096450456948966\n",
      "settling_time\n",
      "\troll:\t279.88659793814435\n",
      "\tpitch:\t292.6701030927835\n",
      "\tVa:\t366.03092783505156\n",
      "\tall:\t385.7319587628866\n"
     ]
    }
   ],
   "source": [
    "os.chdir(examples_dir)\n",
    "# needed to avoid that multiprocessing creates recursive subprocesses\n",
    "if __name__ == '__main__':\n",
    "    evaluate_controller.main(path_to_file=\"test_sets/test_set_wind_moderate_step20-20-3.npy\", num_envs=4, model_path=\"models/mlp_controller/model.pkl\", turbulence_intensity=\"moderate\", print_res=False)"
   ]
  },
  {
   "cell_type": "code",
   "execution_count": 4,
   "metadata": {},
   "outputs": [
    {
     "output_type": "stream",
     "name": "stdout",
     "text": [
      "Loading a model without an environment, this model cannot be trained until it has a valid environment.\n",
      "WARNING:tensorflow:From /home/user/miniconda3/envs/adlr/lib/python3.6/site-packages/stable_baselines/common/tf_util.py:191: The name tf.ConfigProto is deprecated. Please use tf.compat.v1.ConfigProto instead.\n",
      "\n",
      "WARNING:tensorflow:From /home/user/miniconda3/envs/adlr/lib/python3.6/site-packages/stable_baselines/common/tf_util.py:200: The name tf.Session is deprecated. Please use tf.compat.v1.Session instead.\n",
      "\n",
      "WARNING:tensorflow:From /home/user/miniconda3/envs/adlr/lib/python3.6/site-packages/stable_baselines/common/policies.py:116: The name tf.variable_scope is deprecated. Please use tf.compat.v1.variable_scope instead.\n",
      "\n",
      "WARNING:tensorflow:From /home/user/miniconda3/envs/adlr/lib/python3.6/site-packages/stable_baselines/common/input.py:25: The name tf.placeholder is deprecated. Please use tf.compat.v1.placeholder instead.\n",
      "\n",
      "WARNING:tensorflow:From /home/user/miniconda3/envs/adlr/lib/python3.6/site-packages/stable_baselines/common/policies.py:561: flatten (from tensorflow.python.layers.core) is deprecated and will be removed in a future version.\n",
      "Instructions for updating:\n",
      "Use keras.layers.flatten instead.\n",
      "WARNING:tensorflow:From /home/user/miniconda3/envs/adlr/lib/python3.6/site-packages/tensorflow_core/python/layers/core.py:332: Layer.apply (from tensorflow.python.keras.engine.base_layer) is deprecated and will be removed in a future version.\n",
      "Instructions for updating:\n",
      "Please use `layer.__call__` method instead.\n",
      "WARNING:tensorflow:From /home/user/miniconda3/envs/adlr/lib/python3.6/site-packages/stable_baselines/common/tf_layers.py:123: The name tf.get_variable is deprecated. Please use tf.compat.v1.get_variable instead.\n",
      "\n",
      "WARNING:tensorflow:From /home/user/miniconda3/envs/adlr/lib/python3.6/site-packages/stable_baselines/common/distributions.py:418: The name tf.random_normal is deprecated. Please use tf.random.normal instead.\n",
      "\n",
      "WARNING:tensorflow:From /home/user/miniconda3/envs/adlr/lib/python3.6/site-packages/stable_baselines/ppo2/ppo2.py:190: The name tf.summary.scalar is deprecated. Please use tf.compat.v1.summary.scalar instead.\n",
      "\n",
      "WARNING:tensorflow:From /home/user/miniconda3/envs/adlr/lib/python3.6/site-packages/stable_baselines/ppo2/ppo2.py:198: The name tf.trainable_variables is deprecated. Please use tf.compat.v1.trainable_variables instead.\n",
      "\n",
      "WARNING:tensorflow:From /home/user/miniconda3/envs/adlr/lib/python3.6/site-packages/tensorflow_core/python/ops/math_grad.py:1424: where (from tensorflow.python.ops.array_ops) is deprecated and will be removed in a future version.\n",
      "Instructions for updating:\n",
      "Use tf.where in 2.0, which has the same broadcast rule as np.where\n",
      "WARNING:tensorflow:From /home/user/miniconda3/envs/adlr/lib/python3.6/site-packages/stable_baselines/ppo2/ppo2.py:206: The name tf.train.AdamOptimizer is deprecated. Please use tf.compat.v1.train.AdamOptimizer instead.\n",
      "\n",
      "WARNING:tensorflow:From /home/user/miniconda3/envs/adlr/lib/python3.6/site-packages/stable_baselines/ppo2/ppo2.py:240: The name tf.global_variables_initializer is deprecated. Please use tf.compat.v1.global_variables_initializer instead.\n",
      "\n",
      "WARNING:tensorflow:From /home/user/miniconda3/envs/adlr/lib/python3.6/site-packages/stable_baselines/ppo2/ppo2.py:242: The name tf.summary.merge_all is deprecated. Please use tf.compat.v1.summary.merge_all instead.\n",
      "\n",
      "WARNING:tensorflow:From /home/user/miniconda3/envs/adlr/lib/python3.6/site-packages/stable_baselines/common/misc_util.py:26: The name tf.set_random_seed is deprecated. Please use tf.compat.v1.set_random_seed instead.\n",
      "\n",
      "100/100 scenarios left\n",
      "99/100 scenarios left\n",
      "98/100 scenarios left\n",
      "97/100 scenarios left\n",
      "96/100 scenarios left\n",
      "95/100 scenarios left\n",
      "94/100 scenarios left\n",
      "93/100 scenarios left\n",
      "92/100 scenarios left\n",
      "91/100 scenarios left\n",
      "90/100 scenarios left\n",
      "89/100 scenarios left\n",
      "88/100 scenarios left\n",
      "87/100 scenarios left\n",
      "86/100 scenarios left\n",
      "85/100 scenarios left\n",
      "84/100 scenarios left\n",
      "83/100 scenarios left\n",
      "82/100 scenarios left\n",
      "81/100 scenarios left\n",
      "80/100 scenarios left\n",
      "79/100 scenarios left\n",
      "78/100 scenarios left\n",
      "77/100 scenarios left\n",
      "76/100 scenarios left\n",
      "75/100 scenarios left\n",
      "74/100 scenarios left\n",
      "73/100 scenarios left\n",
      "72/100 scenarios left\n",
      "71/100 scenarios left\n",
      "70/100 scenarios left\n",
      "69/100 scenarios left\n",
      "68/100 scenarios left\n",
      "67/100 scenarios left\n",
      "66/100 scenarios left\n",
      "65/100 scenarios left\n",
      "64/100 scenarios left\n",
      "63/100 scenarios left\n",
      "62/100 scenarios left\n",
      "61/100 scenarios left\n",
      "60/100 scenarios left\n",
      "59/100 scenarios left\n",
      "58/100 scenarios left\n",
      "57/100 scenarios left\n",
      "56/100 scenarios left\n",
      "55/100 scenarios left\n",
      "54/100 scenarios left\n",
      "53/100 scenarios left\n",
      "52/100 scenarios left\n",
      "51/100 scenarios left\n",
      "50/100 scenarios left\n",
      "49/100 scenarios left\n",
      "48/100 scenarios left\n",
      "47/100 scenarios left\n",
      "46/100 scenarios left\n",
      "45/100 scenarios left\n",
      "44/100 scenarios left\n",
      "43/100 scenarios left\n",
      "42/100 scenarios left\n",
      "41/100 scenarios left\n",
      "40/100 scenarios left\n",
      "39/100 scenarios left\n",
      "38/100 scenarios left\n",
      "37/100 scenarios left\n",
      "36/100 scenarios left\n",
      "35/100 scenarios left\n",
      "34/100 scenarios left\n",
      "33/100 scenarios left\n",
      "32/100 scenarios left\n",
      "31/100 scenarios left\n",
      "30/100 scenarios left\n",
      "29/100 scenarios left\n",
      "28/100 scenarios left\n",
      "27/100 scenarios left\n",
      "26/100 scenarios left\n",
      "25/100 scenarios left\n",
      "24/100 scenarios left\n",
      "23/100 scenarios left\n",
      "22/100 scenarios left\n",
      "21/100 scenarios left\n",
      "20/100 scenarios left\n",
      "19/100 scenarios left\n",
      "18/100 scenarios left\n",
      "17/100 scenarios left\n",
      "16/100 scenarios left\n",
      "15/100 scenarios left\n",
      "14/100 scenarios left\n",
      "13/100 scenarios left\n",
      "12/100 scenarios left\n",
      "11/100 scenarios left\n",
      "10/100 scenarios left\n",
      "9/100 scenarios left\n",
      "8/100 scenarios left\n",
      "7/100 scenarios left\n",
      "6/100 scenarios left\n",
      "5/100 scenarios left\n",
      "4/100 scenarios left\n",
      "3/100 scenarios left\n",
      "2/100 scenarios left\n",
      "1/100 scenarios left\n",
      "success\n",
      "\troll:\t0.74\n",
      "\tpitch:\t0.75\n",
      "\tVa:\t0.53\n",
      "\tall:\t0.4\n",
      "control_variation\n",
      "\tall:\t0.3984460512668006\n",
      "rise_time\n",
      "\troll:\t197.13333333333333\n",
      "\tpitch:\t103.87179487179488\n",
      "\tVa:\t124.08571428571429\n",
      "overshoot\n",
      "\troll:\t0.6463093643040478\n",
      "\tpitch:\t0.6742408833954939\n",
      "\tVa:\t1.6437931978269755\n",
      "settling_time\n",
      "\troll:\t508.05\n",
      "\tpitch:\t426.025\n",
      "\tVa:\t445.025\n",
      "\tall:\t611.1\n"
     ]
    }
   ],
   "source": [
    "os.chdir(examples_dir)\n",
    "# needed to avoid that multiprocessing creates recursive subprocesses\n",
    "if __name__ == '__main__':\n",
    "    evaluate_controller.main(path_to_file=\"test_sets/test_set_wind_moderate_step20-20-3.npy\", num_envs=4, model_path=\"models/reproduceMLP/model.pkl\", turbulence_intensity=\"moderate\", print_res=False)"
   ]
  },
  {
   "source": [
    "```shell\n",
    "    tensorboard --logdir models/reproduceMLP/tb\n",
    "```\n"
   ],
   "cell_type": "markdown",
   "metadata": {}
  },
  {
   "source": [
    "![tensorboard log](../papers/fixed-wing-gym/gym_fixed_wing/examples/reproduceMLP/tensorboard.png)"
   ],
   "cell_type": "markdown",
   "metadata": {}
  },
  {
   "cell_type": "code",
   "execution_count": 3,
   "metadata": {},
   "outputs": [
    {
     "output_type": "stream",
     "name": "stdout",
     "text": [
      "success\n\troll:\t0.98\n\tpitch:\t0.98\n\tVa:\t0.97\n\tall:\t0.97\ncontrol_variation\n\tall:\t0.8850109746249458\nrise_time\n\troll:\t14.840425531914894\n\tpitch:\t149.23595505617976\n\tVa:\t34.86538461538461\novershoot\n\troll:\t0.9015139050870169\n\tpitch:\t1.5196833654123265\n\tVa:\t2.254732935986987\nsettling_time\n\troll:\t223.1958762886598\n\tpitch:\t245.84536082474227\n\tVa:\t614.5876288659794\n\tall:\t624.319587628866\n"
     ]
    },
    {
     "output_type": "error",
     "ename": "SystemExit",
     "evalue": "0",
     "traceback": [
      "An exception has occurred, use %tb to see the full traceback.\n",
      "\u001b[0;31mSystemExit\u001b[0m\u001b[0;31m:\u001b[0m 0\n"
     ]
    }
   ],
   "source": [
    "os.chdir(examples_dir)\n",
    "# needed to avoid that multiprocessing creates recursive subprocesses\n",
    "if __name__ == '__main__':\n",
    "    evaluate_controller.main(path_to_file=\"evaluations/eval_res_RL_CNN_severe.npy\", print_res=True)"
   ]
  },
  {
   "cell_type": "code",
   "execution_count": 5,
   "metadata": {},
   "outputs": [],
   "source": [
    "# load latest evaluation result\n",
    "import numpy as np\n",
    "os.chdir(examples_dir)\n",
    "res = np.load(\"eval_res.npy\", allow_pickle=True).item()\n",
    "res"
   ]
  },
  {
   "source": [
    "# Information from Readme"
   ],
   "cell_type": "markdown",
   "metadata": {}
  },
  {
   "source": [
    "### Evaluating controllers\n",
    "The test_sets folder contains the four test sets used in the paper. Controllers can be evaluated on these sets by doing e.g.:"
   ],
   "cell_type": "markdown",
   "metadata": {}
  },
  {
   "source": [
    "first cd into the directory: papers/fixed-wing-gym/gym_fixed_wing/examples/"
   ],
   "cell_type": "markdown",
   "metadata": {}
  },
  {
   "source": [
    "```shell\n",
    "python evaluate_controller.py test_sets/test_set_wind_none_step20-20-3.npy --num-envs 4 --PID --env-config-path fixed_wing_config.json --turbulence-intensity \"none\"\n",
    "```"
   ],
   "cell_type": "markdown",
   "metadata": {}
  },
  {
   "source": [
    "Or:"
   ],
   "cell_type": "markdown",
   "metadata": {}
  },
  {
   "source": [
    "```shell\n",
    "python evaluate_controller.py test_sets/test_set_wind_moderate_step20-20-3.npy --num-envs 4 --model-path models/mlp_controller/model.pkl --turbulence-intensity \"moderate\"\n",
    "```"
   ],
   "cell_type": "markdown",
   "metadata": {}
  },
  {
   "source": [
    "Which will evaluate the PID controller on the test set with no wind or turbulence and the MLP controller on the moderate turbulence set, respectively. The model folder contains the CNN RL controller used in the paper, as well as an MLP RL controller usable with the default version of stable-baselines.\n",
    "The outputs of the evaluation scripts can be found in the evaluations folder. They are in numpy format and contain the result dictionary, to process them in python do:"
   ],
   "cell_type": "markdown",
   "metadata": {}
  },
  {
   "cell_type": "code",
   "execution_count": null,
   "metadata": {},
   "outputs": [],
   "source": [
    "res = np.load(\"eval_res.npy\", allow_pickle=True).item()"
   ]
  },
  {
   "source": [
    "Evaluation results can also be outputted by supplying the evaluation results file path in place of the test set path along with the --print-results flag:"
   ],
   "cell_type": "markdown",
   "metadata": {}
  },
  {
   "source": [
    "```shell\n",
    "python evaluate_controller.py evaluations/eval_res_RL_CNN_severe.npy --print-results\n",
    "```"
   ],
   "cell_type": "markdown",
   "metadata": {}
  },
  {
   "source": [
    "### Training controllers\n",
    "\n",
    "To train a reinforcement learning controller, run the train_rl_controller.py script, e.g. to train an agent using 4 processes for 5 million time steps and evaluate on the no turbulence test set, do:"
   ],
   "cell_type": "markdown",
   "metadata": {}
  },
  {
   "source": [
    "```shell\n",
    "python train_rl_controller.py \"ppo_example\" 4 --test-set-path test_sets/test_set_wind_none_step20-20-3.npy\n",
    "```"
   ],
   "cell_type": "markdown",
   "metadata": {}
  },
  {
   "source": [
    "This script trains a PPO agent to do attitude control of a fixed-wing aircraft. It saves checkpoints of models, renders episodes\n",
    " during training so that its behavior can be inspected, runs periodic test set evaluations if a test set path is supplied, and logs\n",
    " all training information to tensorboard such that its progress can be monitored."
   ],
   "cell_type": "markdown",
   "metadata": {}
  },
  {
   "source": [
    "```shell\n",
    "tensorboard --logdir models/ppo_example/tb\n",
    "```"
   ],
   "cell_type": "markdown",
   "metadata": {}
  },
  {
   "source": [
    "![tensorboard log](../papers/fixed-wing-gym/gym_fixed_wing/examples/tensorboard.png)"
   ],
   "cell_type": "markdown",
   "metadata": {}
  }
 ]
}